{
 "cells": [
  {
   "cell_type": "code",
   "execution_count": 3,
   "metadata": {
    "_cell_guid": "b1076dfc-b9ad-4769-8c92-a6c4dae69d19",
    "_uuid": "8f2839f25d086af736a60e9eeb907d3b93b6e0e5"
   },
   "outputs": [],
   "source": [
    "# This Python 3 environment comes with many helpful analytics libraries installed\n",
    "# It is defined by the kaggle/python Docker image: https://github.com/kaggle/docker-python\n",
    "# For example, here's several helpful packages to load\n",
    "import sys\n",
    "import numpy as np # linear algebra\n",
    "import pandas as pd # data processing, CSV file I/O (e.g. pd.read_csv)\n",
    "import seaborn as sns\n",
    "import matplotlib.pyplot as plt\n",
    "from sklearn.model_selection import GridSearchCV\n",
    "\n"
   ]
  },
  {
   "cell_type": "code",
   "execution_count": 4,
   "metadata": {
    "_cell_guid": "79c7e3d0-c299-4dcb-8224-4455121ee9b0",
    "_uuid": "d629ff2d2480ee46fbb7e2d37f6b5fab8052498a"
   },
   "outputs": [
    {
     "data": {
      "text/plain": [
       "[     PassengerId  Survived  Pclass  \\\n",
       " 0              1         0       3   \n",
       " 1              2         1       1   \n",
       " 2              3         1       3   \n",
       " 3              4         1       1   \n",
       " 4              5         0       3   \n",
       " ..           ...       ...     ...   \n",
       " 886          887         0       2   \n",
       " 887          888         1       1   \n",
       " 888          889         0       3   \n",
       " 889          890         1       1   \n",
       " 890          891         0       3   \n",
       " \n",
       "                                                   Name     Sex   Age  SibSp  \\\n",
       " 0                              Braund, Mr. Owen Harris    male  22.0      1   \n",
       " 1    Cumings, Mrs. John Bradley (Florence Briggs Th...  female  38.0      1   \n",
       " 2                               Heikkinen, Miss. Laina  female  26.0      0   \n",
       " 3         Futrelle, Mrs. Jacques Heath (Lily May Peel)  female  35.0      1   \n",
       " 4                             Allen, Mr. William Henry    male  35.0      0   \n",
       " ..                                                 ...     ...   ...    ...   \n",
       " 886                              Montvila, Rev. Juozas    male  27.0      0   \n",
       " 887                       Graham, Miss. Margaret Edith  female  19.0      0   \n",
       " 888           Johnston, Miss. Catherine Helen \"Carrie\"  female   NaN      1   \n",
       " 889                              Behr, Mr. Karl Howell    male  26.0      0   \n",
       " 890                                Dooley, Mr. Patrick    male  32.0      0   \n",
       " \n",
       "      Parch            Ticket     Fare Cabin Embarked  \n",
       " 0        0         A/5 21171   7.2500   NaN        S  \n",
       " 1        0          PC 17599  71.2833   C85        C  \n",
       " 2        0  STON/O2. 3101282   7.9250   NaN        S  \n",
       " 3        0            113803  53.1000  C123        S  \n",
       " 4        0            373450   8.0500   NaN        S  \n",
       " ..     ...               ...      ...   ...      ...  \n",
       " 886      0            211536  13.0000   NaN        S  \n",
       " 887      0            112053  30.0000   B42        S  \n",
       " 888      2        W./C. 6607  23.4500   NaN        S  \n",
       " 889      0            111369  30.0000  C148        C  \n",
       " 890      0            370376   7.7500   NaN        Q  \n",
       " \n",
       " [891 rows x 12 columns],\n",
       "      PassengerId  Pclass                                          Name  \\\n",
       " 0            892       3                              Kelly, Mr. James   \n",
       " 1            893       3              Wilkes, Mrs. James (Ellen Needs)   \n",
       " 2            894       2                     Myles, Mr. Thomas Francis   \n",
       " 3            895       3                              Wirz, Mr. Albert   \n",
       " 4            896       3  Hirvonen, Mrs. Alexander (Helga E Lindqvist)   \n",
       " ..           ...     ...                                           ...   \n",
       " 413         1305       3                            Spector, Mr. Woolf   \n",
       " 414         1306       1                  Oliva y Ocana, Dona. Fermina   \n",
       " 415         1307       3                  Saether, Mr. Simon Sivertsen   \n",
       " 416         1308       3                           Ware, Mr. Frederick   \n",
       " 417         1309       3                      Peter, Master. Michael J   \n",
       " \n",
       "         Sex   Age  SibSp  Parch              Ticket      Fare Cabin Embarked  \n",
       " 0      male  34.5      0      0              330911    7.8292   NaN        Q  \n",
       " 1    female  47.0      1      0              363272    7.0000   NaN        S  \n",
       " 2      male  62.0      0      0              240276    9.6875   NaN        Q  \n",
       " 3      male  27.0      0      0              315154    8.6625   NaN        S  \n",
       " 4    female  22.0      1      1             3101298   12.2875   NaN        S  \n",
       " ..      ...   ...    ...    ...                 ...       ...   ...      ...  \n",
       " 413    male   NaN      0      0           A.5. 3236    8.0500   NaN        S  \n",
       " 414  female  39.0      0      0            PC 17758  108.9000  C105        C  \n",
       " 415    male  38.5      0      0  SOTON/O.Q. 3101262    7.2500   NaN        S  \n",
       " 416    male   NaN      0      0              359309    8.0500   NaN        S  \n",
       " 417    male   NaN      1      1                2668   22.3583   NaN        C  \n",
       " \n",
       " [418 rows x 11 columns]]"
      ]
     },
     "execution_count": 4,
     "metadata": {},
     "output_type": "execute_result"
    }
   ],
   "source": [
    "train_X = pd.read_csv('data/train.csv')\n",
    "test_X = pd.read_csv('data/test.csv')\n",
    "concat=[train_X, test_X]\n",
    "concat"
   ]
  },
  {
   "cell_type": "code",
   "execution_count": 5,
   "metadata": {},
   "outputs": [
    {
     "data": {
      "text/plain": [
       "Survived      0\n",
       "Pclass        0\n",
       "Name          0\n",
       "Sex           0\n",
       "Age         177\n",
       "SibSp         0\n",
       "Parch         0\n",
       "Ticket        0\n",
       "Fare          0\n",
       "Embarked      2\n",
       "dtype: int64"
      ]
     },
     "execution_count": 5,
     "metadata": {},
     "output_type": "execute_result"
    }
   ],
   "source": [
    "train_X.drop(['PassengerId', 'Cabin'],axis=1, inplace=True)\n",
    "test_X.drop(['PassengerId', 'Cabin'], axis=1, inplace=True)\n",
    "train_X.isnull().sum()\n"
   ]
  },
  {
   "cell_type": "code",
   "execution_count": 6,
   "metadata": {},
   "outputs": [
    {
     "data": {
      "text/plain": [
       "<matplotlib.axes._subplots.AxesSubplot at 0x1da343d8220>"
      ]
     },
     "execution_count": 6,
     "metadata": {},
     "output_type": "execute_result"
    },
    {
     "data": {
      "image/png": "[encoded data removed]",
      "text/plain": [
       "<Figure size 432x288 with 1 Axes>"
      ]
     },
     "metadata": {
      "needs_background": "light"
     },
     "output_type": "display_data"
    }
   ],
   "source": [
    "#VISUALIZATION\n",
    "sns.countplot(train_X['Survived'])"
   ]
  },
  {
   "cell_type": "code",
   "execution_count": 7,
   "metadata": {},
   "outputs": [
    {
     "data": {
      "text/plain": [
       "<matplotlib.axes._subplots.AxesSubplot at 0x1da343d80d0>"
      ]
     },
     "execution_count": 7,
     "metadata": {},
     "output_type": "execute_result"
    },
    {
     "data": {
      "image/png": "[encoded data removed]",
      "text/plain": [
       "<Figure size 720x360 with 2 Axes>"
      ]
     },
     "metadata": {
      "needs_background": "light"
     },
     "output_type": "display_data"
    }
   ],
   "source": [
    "plt.figure(figsize=(10,5))\n",
    "sns.heatmap(train_X.corr(), annot=True)"
   ]
  },
  {
   "cell_type": "code",
   "execution_count": 8,
   "metadata": {},
   "outputs": [
    {
     "data": {
      "text/plain": [
       "<matplotlib.axes._subplots.AxesSubplot at 0x1da34619e50>"
      ]
     },
     "execution_count": 8,
     "metadata": {},
     "output_type": "execute_result"
    },
    {
     "data": {
      "image/png": "[encoded data removed]",
      "text/plain": [
       "<Figure size 432x288 with 1 Axes>"
      ]
     },
     "metadata": {
      "needs_background": "light"
     },
     "output_type": "display_data"
    }
   ],
   "source": [
    "sns.countplot(train_X['Survived'], hue = 'Sex', data=train_X)"
   ]
  },
  {
   "cell_type": "code",
   "execution_count": 9,
   "metadata": {},
   "outputs": [
    {
     "data": {
      "text/plain": [
       "<matplotlib.axes._subplots.AxesSubplot at 0x1da34666850>"
      ]
     },
     "execution_count": 9,
     "metadata": {},
     "output_type": "execute_result"
    },
    {
     "data": {
      "image/png": "[encoded data removed]",
      "text/plain": [
       "<Figure size 432x288 with 1 Axes>"
      ]
     },
     "metadata": {
      "needs_background": "light"
     },
     "output_type": "display_data"
    }
   ],
   "source": [
    "sns.countplot(train_X['Survived'], hue='Embarked', data=train_X)"
   ]
  },
  {
   "cell_type": "code",
   "execution_count": 10,
   "metadata": {},
   "outputs": [
    {
     "name": "stdout",
     "output_type": "stream",
     "text": [
      "Sex       female  male\n",
      "Title                 \n",
      "Capt           0     1\n",
      "Col            0     2\n",
      "Countess       1     0\n",
      "Don            0     1\n",
      "Dr             1     6\n",
      "Jonkheer       0     1\n",
      "Lady           1     0\n",
      "Major          0     2\n",
      "Master         0    40\n",
      "Miss         182     0\n",
      "Mlle           2     0\n",
      "Mme            1     0\n",
      "Mr             0   517\n",
      "Mrs          125     0\n",
      "Ms             1     0\n",
      "Rev            0     6\n",
      "Sir            0     1\n"
     ]
    }
   ],
   "source": [
    "#Analiz\n",
    "for i in concat:\n",
    "    i['Title'] = i.Name.str.extract(' ([A-Za-z]+)\\.', expand=False)\n",
    "    train_X=concat[0]; test_X=concat[1]\n",
    "print(pd.crosstab(train_X['Title'], train_X['Sex']))"
   ]
  },
  {
   "cell_type": "code",
   "execution_count": 11,
   "metadata": {},
   "outputs": [
    {
     "data": {
      "text/html": [
       "<div>\n",
       "<style scoped>\n",
       "    .dataframe tbody tr th:only-of-type {\n",
       "        vertical-align: middle;\n",
       "    }\n",
       "\n",
       "    .dataframe tbody tr th {\n",
       "        vertical-align: top;\n",
       "    }\n",
       "\n",
       "    .dataframe thead th {\n",
       "        text-align: right;\n",
       "    }\n",
       "</style>\n",
       "<table border=\"1\" class=\"dataframe\">\n",
       "  <thead>\n",
       "    <tr style=\"text-align: right;\">\n",
       "      <th></th>\n",
       "      <th>Survived</th>\n",
       "    </tr>\n",
       "    <tr>\n",
       "      <th>Title</th>\n",
       "      <th></th>\n",
       "    </tr>\n",
       "  </thead>\n",
       "  <tbody>\n",
       "    <tr>\n",
       "      <th>Capt</th>\n",
       "      <td>0.000000</td>\n",
       "    </tr>\n",
       "    <tr>\n",
       "      <th>Col</th>\n",
       "      <td>0.500000</td>\n",
       "    </tr>\n",
       "    <tr>\n",
       "      <th>Countess</th>\n",
       "      <td>1.000000</td>\n",
       "    </tr>\n",
       "    <tr>\n",
       "      <th>Don</th>\n",
       "      <td>0.000000</td>\n",
       "    </tr>\n",
       "    <tr>\n",
       "      <th>Dr</th>\n",
       "      <td>0.428571</td>\n",
       "    </tr>\n",
       "    <tr>\n",
       "      <th>Jonkheer</th>\n",
       "      <td>0.000000</td>\n",
       "    </tr>\n",
       "    <tr>\n",
       "      <th>Lady</th>\n",
       "      <td>1.000000</td>\n",
       "    </tr>\n",
       "    <tr>\n",
       "      <th>Major</th>\n",
       "      <td>0.500000</td>\n",
       "    </tr>\n",
       "    <tr>\n",
       "      <th>Master</th>\n",
       "      <td>0.575000</td>\n",
       "    </tr>\n",
       "    <tr>\n",
       "      <th>Miss</th>\n",
       "      <td>0.697802</td>\n",
       "    </tr>\n",
       "    <tr>\n",
       "      <th>Mlle</th>\n",
       "      <td>1.000000</td>\n",
       "    </tr>\n",
       "    <tr>\n",
       "      <th>Mme</th>\n",
       "      <td>1.000000</td>\n",
       "    </tr>\n",
       "    <tr>\n",
       "      <th>Mr</th>\n",
       "      <td>0.156673</td>\n",
       "    </tr>\n",
       "    <tr>\n",
       "      <th>Mrs</th>\n",
       "      <td>0.792000</td>\n",
       "    </tr>\n",
       "    <tr>\n",
       "      <th>Ms</th>\n",
       "      <td>1.000000</td>\n",
       "    </tr>\n",
       "    <tr>\n",
       "      <th>Rev</th>\n",
       "      <td>0.000000</td>\n",
       "    </tr>\n",
       "    <tr>\n",
       "      <th>Sir</th>\n",
       "      <td>1.000000</td>\n",
       "    </tr>\n",
       "  </tbody>\n",
       "</table>\n",
       "</div>"
      ],
      "text/plain": [
       "          Survived\n",
       "Title             \n",
       "Capt      0.000000\n",
       "Col       0.500000\n",
       "Countess  1.000000\n",
       "Don       0.000000\n",
       "Dr        0.428571\n",
       "Jonkheer  0.000000\n",
       "Lady      1.000000\n",
       "Major     0.500000\n",
       "Master    0.575000\n",
       "Miss      0.697802\n",
       "Mlle      1.000000\n",
       "Mme       1.000000\n",
       "Mr        0.156673\n",
       "Mrs       0.792000\n",
       "Ms        1.000000\n",
       "Rev       0.000000\n",
       "Sir       1.000000"
      ]
     },
     "execution_count": 11,
     "metadata": {},
     "output_type": "execute_result"
    }
   ],
   "source": [
    "train_X[['Title', 'Survived']].groupby('Title').mean()"
   ]
  },
  {
   "cell_type": "code",
   "execution_count": 12,
   "metadata": {},
   "outputs": [
    {
     "data": {
      "text/html": [
       "<div>\n",
       "<style scoped>\n",
       "    .dataframe tbody tr th:only-of-type {\n",
       "        vertical-align: middle;\n",
       "    }\n",
       "\n",
       "    .dataframe tbody tr th {\n",
       "        vertical-align: top;\n",
       "    }\n",
       "\n",
       "    .dataframe thead th {\n",
       "        text-align: right;\n",
       "    }\n",
       "</style>\n",
       "<table border=\"1\" class=\"dataframe\">\n",
       "  <thead>\n",
       "    <tr style=\"text-align: right;\">\n",
       "      <th></th>\n",
       "      <th>Pclass</th>\n",
       "      <th>Name</th>\n",
       "      <th>Sex</th>\n",
       "      <th>Age</th>\n",
       "      <th>SibSp</th>\n",
       "      <th>Parch</th>\n",
       "      <th>Ticket</th>\n",
       "      <th>Fare</th>\n",
       "      <th>Embarked</th>\n",
       "      <th>Title</th>\n",
       "    </tr>\n",
       "  </thead>\n",
       "  <tbody>\n",
       "    <tr>\n",
       "      <th>0</th>\n",
       "      <td>3</td>\n",
       "      <td>Kelly, Mr. James</td>\n",
       "      <td>male</td>\n",
       "      <td>34.5</td>\n",
       "      <td>0</td>\n",
       "      <td>0</td>\n",
       "      <td>330911</td>\n",
       "      <td>7.8292</td>\n",
       "      <td>Q</td>\n",
       "      <td>Mr</td>\n",
       "    </tr>\n",
       "    <tr>\n",
       "      <th>1</th>\n",
       "      <td>3</td>\n",
       "      <td>Wilkes, Mrs. James (Ellen Needs)</td>\n",
       "      <td>female</td>\n",
       "      <td>47.0</td>\n",
       "      <td>1</td>\n",
       "      <td>0</td>\n",
       "      <td>363272</td>\n",
       "      <td>7.0000</td>\n",
       "      <td>S</td>\n",
       "      <td>Mrs</td>\n",
       "    </tr>\n",
       "    <tr>\n",
       "      <th>2</th>\n",
       "      <td>2</td>\n",
       "      <td>Myles, Mr. Thomas Francis</td>\n",
       "      <td>male</td>\n",
       "      <td>62.0</td>\n",
       "      <td>0</td>\n",
       "      <td>0</td>\n",
       "      <td>240276</td>\n",
       "      <td>9.6875</td>\n",
       "      <td>Q</td>\n",
       "      <td>Mr</td>\n",
       "    </tr>\n",
       "    <tr>\n",
       "      <th>3</th>\n",
       "      <td>3</td>\n",
       "      <td>Wirz, Mr. Albert</td>\n",
       "      <td>male</td>\n",
       "      <td>27.0</td>\n",
       "      <td>0</td>\n",
       "      <td>0</td>\n",
       "      <td>315154</td>\n",
       "      <td>8.6625</td>\n",
       "      <td>S</td>\n",
       "      <td>Mr</td>\n",
       "    </tr>\n",
       "    <tr>\n",
       "      <th>4</th>\n",
       "      <td>3</td>\n",
       "      <td>Hirvonen, Mrs. Alexander (Helga E Lindqvist)</td>\n",
       "      <td>female</td>\n",
       "      <td>22.0</td>\n",
       "      <td>1</td>\n",
       "      <td>1</td>\n",
       "      <td>3101298</td>\n",
       "      <td>12.2875</td>\n",
       "      <td>S</td>\n",
       "      <td>Mrs</td>\n",
       "    </tr>\n",
       "    <tr>\n",
       "      <th>...</th>\n",
       "      <td>...</td>\n",
       "      <td>...</td>\n",
       "      <td>...</td>\n",
       "      <td>...</td>\n",
       "      <td>...</td>\n",
       "      <td>...</td>\n",
       "      <td>...</td>\n",
       "      <td>...</td>\n",
       "      <td>...</td>\n",
       "      <td>...</td>\n",
       "    </tr>\n",
       "    <tr>\n",
       "      <th>413</th>\n",
       "      <td>3</td>\n",
       "      <td>Spector, Mr. Woolf</td>\n",
       "      <td>male</td>\n",
       "      <td>NaN</td>\n",
       "      <td>0</td>\n",
       "      <td>0</td>\n",
       "      <td>A.5. 3236</td>\n",
       "      <td>8.0500</td>\n",
       "      <td>S</td>\n",
       "      <td>Mr</td>\n",
       "    </tr>\n",
       "    <tr>\n",
       "      <th>414</th>\n",
       "      <td>1</td>\n",
       "      <td>Oliva y Ocana, Dona. Fermina</td>\n",
       "      <td>female</td>\n",
       "      <td>39.0</td>\n",
       "      <td>0</td>\n",
       "      <td>0</td>\n",
       "      <td>PC 17758</td>\n",
       "      <td>108.9000</td>\n",
       "      <td>C</td>\n",
       "      <td>Rare</td>\n",
       "    </tr>\n",
       "    <tr>\n",
       "      <th>415</th>\n",
       "      <td>3</td>\n",
       "      <td>Saether, Mr. Simon Sivertsen</td>\n",
       "      <td>male</td>\n",
       "      <td>38.5</td>\n",
       "      <td>0</td>\n",
       "      <td>0</td>\n",
       "      <td>SOTON/O.Q. 3101262</td>\n",
       "      <td>7.2500</td>\n",
       "      <td>S</td>\n",
       "      <td>Mr</td>\n",
       "    </tr>\n",
       "    <tr>\n",
       "      <th>416</th>\n",
       "      <td>3</td>\n",
       "      <td>Ware, Mr. Frederick</td>\n",
       "      <td>male</td>\n",
       "      <td>NaN</td>\n",
       "      <td>0</td>\n",
       "      <td>0</td>\n",
       "      <td>359309</td>\n",
       "      <td>8.0500</td>\n",
       "      <td>S</td>\n",
       "      <td>Mr</td>\n",
       "    </tr>\n",
       "    <tr>\n",
       "      <th>417</th>\n",
       "      <td>3</td>\n",
       "      <td>Peter, Master. Michael J</td>\n",
       "      <td>male</td>\n",
       "      <td>NaN</td>\n",
       "      <td>1</td>\n",
       "      <td>1</td>\n",
       "      <td>2668</td>\n",
       "      <td>22.3583</td>\n",
       "      <td>C</td>\n",
       "      <td>Master</td>\n",
       "    </tr>\n",
       "  </tbody>\n",
       "</table>\n",
       "<p>418 rows × 10 columns</p>\n",
       "</div>"
      ],
      "text/plain": [
       "     Pclass                                          Name     Sex   Age  \\\n",
       "0         3                              Kelly, Mr. James    male  34.5   \n",
       "1         3              Wilkes, Mrs. James (Ellen Needs)  female  47.0   \n",
       "2         2                     Myles, Mr. Thomas Francis    male  62.0   \n",
       "3         3                              Wirz, Mr. Albert    male  27.0   \n",
       "4         3  Hirvonen, Mrs. Alexander (Helga E Lindqvist)  female  22.0   \n",
       "..      ...                                           ...     ...   ...   \n",
       "413       3                            Spector, Mr. Woolf    male   NaN   \n",
       "414       1                  Oliva y Ocana, Dona. Fermina  female  39.0   \n",
       "415       3                  Saether, Mr. Simon Sivertsen    male  38.5   \n",
       "416       3                           Ware, Mr. Frederick    male   NaN   \n",
       "417       3                      Peter, Master. Michael J    male   NaN   \n",
       "\n",
       "     SibSp  Parch              Ticket      Fare Embarked   Title  \n",
       "0        0      0              330911    7.8292        Q      Mr  \n",
       "1        1      0              363272    7.0000        S     Mrs  \n",
       "2        0      0              240276    9.6875        Q      Mr  \n",
       "3        0      0              315154    8.6625        S      Mr  \n",
       "4        1      1             3101298   12.2875        S     Mrs  \n",
       "..     ...    ...                 ...       ...      ...     ...  \n",
       "413      0      0           A.5. 3236    8.0500        S      Mr  \n",
       "414      0      0            PC 17758  108.9000        C    Rare  \n",
       "415      0      0  SOTON/O.Q. 3101262    7.2500        S      Mr  \n",
       "416      0      0              359309    8.0500        S      Mr  \n",
       "417      1      1                2668   22.3583        C  Master  \n",
       "\n",
       "[418 rows x 10 columns]"
      ]
     },
     "execution_count": 12,
     "metadata": {},
     "output_type": "execute_result"
    }
   ],
   "source": [
    "for i in concat:\n",
    "    i['Title'] = i['Title'].replace(['Lady', 'Countess','Capt', 'Col','Don', 'Dr', 'Major', 'Rev', 'Sir', 'Jonkheer', 'Dona'], 'Rare')\n",
    "    i['Title'] = i['Title'].replace('Ms','Miss')\n",
    "    i['Title']=i['Title'].replace('Mme', 'Mrs')\n",
    "    i['Title'] = i['Title'].replace('Mlle', 'Miss')\n",
    "test_X"
   ]
  },
  {
   "cell_type": "code",
   "execution_count": 13,
   "metadata": {},
   "outputs": [
    {
     "name": "stdout",
     "output_type": "stream",
     "text": [
      "     CategoricalAge  Survived\n",
      "0    (0.34, 16.336]  0.550000\n",
      "1  (16.336, 32.252]  0.344168\n",
      "2  (32.252, 48.168]  0.404255\n",
      "3  (48.168, 64.084]  0.434783\n",
      "4    (64.084, 80.0]  0.090909\n"
     ]
    },
    {
     "name": "stderr",
     "output_type": "stream",
     "text": [
      "<ipython-input-13-bc74cd9e84b9>:1: SettingWithCopyWarning: \n",
      "A value is trying to be set on a copy of a slice from a DataFrame\n",
      "\n",
      "See the caveats in the documentation: https://pandas.pydata.org/pandas-docs/stable/user_guide/indexing.html#returning-a-view-versus-a-copy\n",
      "  train_X['Age'][np.isnan(train_X['Age'])] = train_X['Age'].mean()\n",
      "<ipython-input-13-bc74cd9e84b9>:2: SettingWithCopyWarning: \n",
      "A value is trying to be set on a copy of a slice from a DataFrame\n",
      "\n",
      "See the caveats in the documentation: https://pandas.pydata.org/pandas-docs/stable/user_guide/indexing.html#returning-a-view-versus-a-copy\n",
      "  test_X['Age'][np.isnan(test_X['Age'])] = test_X['Age'].mean()\n"
     ]
    }
   ],
   "source": [
    "train_X['Age'][np.isnan(train_X['Age'])] = train_X['Age'].mean() \n",
    "test_X['Age'][np.isnan(test_X['Age'])] = test_X['Age'].mean()\n",
    "\n",
    "train_X['CategoricalAge'] = pd.cut(train_X['Age'], 5)\n",
    "\n",
    "print (train_X[['CategoricalAge', 'Survived']].groupby(['CategoricalAge'], as_index=False).mean())"
   ]
  },
  {
   "cell_type": "code",
   "execution_count": 14,
   "metadata": {},
   "outputs": [
    {
     "name": "stdout",
     "output_type": "stream",
     "text": [
      "         Survived\n",
      "IsAlone          \n",
      "0        0.303538\n",
      "1        0.505650\n"
     ]
    }
   ],
   "source": [
    "for dataset in concat:\n",
    "    dataset['FamilySize'] = dataset['Parch'] + dataset['SibSp'] + 1\n",
    "    dataset['IsAlone'] = dataset['FamilySize'].apply(lambda x: 1 if x>1 else 0)\n",
    "print(train_X[['IsAlone', 'Survived']].groupby('IsAlone').mean()) "
   ]
  },
  {
   "cell_type": "code",
   "execution_count": 15,
   "metadata": {},
   "outputs": [
    {
     "name": "stdout",
     "output_type": "stream",
     "text": [
      "          Survived\n",
      "Embarked          \n",
      "C         0.553571\n",
      "Q         0.389610\n",
      "S         0.336957\n"
     ]
    }
   ],
   "source": [
    "print(train_X[['Embarked', 'Survived']].groupby('Embarked').mean())"
   ]
  },
  {
   "cell_type": "code",
   "execution_count": 16,
   "metadata": {},
   "outputs": [],
   "source": [
    "train_X=pd.get_dummies(train_X, columns=['Title'], prefix=['Title'])\n",
    "test_X=pd.get_dummies(test_X, columns=['Title'], prefix=['Title'])"
   ]
  },
  {
   "cell_type": "code",
   "execution_count": 17,
   "metadata": {},
   "outputs": [],
   "source": [
    "train_X['Sex']=train_X['Sex'].apply(lambda x: 1  if x=='male' else 0)\n",
    "test_X['Sex']=test_X['Sex'].apply(lambda x: 1  if x=='male' else 0)\n",
    "\n",
    "train_X['Embarked'] = train_X['Embarked'].map({'S':0, 'C':1, 'Q':2})\n",
    "test_X['Embarked'] = test_X['Embarked'].map({'S':0, 'C':1, 'Q':2})\n",
    "\n",
    "train_X = train_X.drop(['Name', 'Ticket'], axis=1)\n",
    "test_X = test_X.drop(['Name','Ticket'],axis=1)\n",
    "\n"
   ]
  },
  {
   "cell_type": "code",
   "execution_count": 18,
   "metadata": {},
   "outputs": [],
   "source": [
    "for dataset in concat:    \n",
    "    dataset['Embarked'] = dataset['Embarked'].map( {'S': 0, 'C': 1, 'Q': 2} )\n",
    "    dataset.loc[ dataset['Fare'] <= 7.91, 'Fare'] = 0\n",
    "    dataset.loc[(dataset['Fare'] > 7.91) & (dataset['Fare'] <= 14.454), 'Fare'] = 1\n",
    "    dataset.loc[(dataset['Fare'] > 14.454) & (dataset['Fare'] <= 31), 'Fare']   = 2\n",
    "    dataset.loc[ dataset['Fare'] > 31, 'Fare'] \n",
    "train_X.drop(['SibSp','Parch','FamilySize'], axis=1,inplace=True)\n",
    "test_X.drop(['SibSp','Parch','FamilySize'], axis=1,inplace=True)\n",
    "\n",
    "train_X['Age'] = train_X['Age'].astype(int)\n",
    "test_X['Age'] = test_X['Age'].astype(int)\n",
    "\n",
    "train_X.drop('CategoricalAge',axis = 1,inplace = True)"
   ]
  },
  {
   "cell_type": "code",
   "execution_count": 19,
   "metadata": {},
   "outputs": [],
   "source": [
    "train_X.loc[train_X['Age'] <= 16, 'Age'] = 0\n",
    "train_X.loc[(train_X['Age'] > 16) & (train_X['Age'] <= 32),'Age'] = 1\n",
    "train_X.loc[(train_X['Age'] > 32) & (train_X['Age'] <= 48),'Age'] = 2\n",
    "train_X.loc[(train_X['Age'] > 48) & (train_X['Age'] <= 64),'Age'] = 3\n",
    "train_X.loc[(train_X['Age'] > 64) & (train_X['Age'] <= 80),'Age'] = 4"
   ]
  },
  {
   "cell_type": "code",
   "execution_count": 20,
   "metadata": {},
   "outputs": [],
   "source": [
    "test_X.loc[test_X['Age']<=16, 'Age'] = 0\n",
    "test_X.loc[(test_X['Age'] > 16) & (test_X['Age'] <= 32),'Age'] = 1\n",
    "test_X.loc[(test_X['Age'] > 32) & (test_X['Age'] <= 48),'Age'] = 2\n",
    "test_X.loc[(test_X['Age'] > 48) & (test_X['Age'] <= 64),'Age'] = 3\n",
    "test_X.loc[(test_X['Age'] > 64) & (test_X['Age'] <= 80),'Age'] = 4"
   ]
  },
  {
   "cell_type": "code",
   "execution_count": 21,
   "metadata": {},
   "outputs": [
    {
     "data": {
      "text/plain": [
       "<matplotlib.axes._subplots.AxesSubplot at 0x1da345ffc70>"
      ]
     },
     "execution_count": 21,
     "metadata": {},
     "output_type": "execute_result"
    },
    {
     "data": {
      "image/png": "[encoded data removed]",
      "text/plain": [
       "<Figure size 1080x720 with 2 Axes>"
      ]
     },
     "metadata": {
      "needs_background": "light"
     },
     "output_type": "display_data"
    }
   ],
   "source": [
    "plt.figure(figsize=(15,10))\n",
    "sns.heatmap(train_X.corr(),annot=True)"
   ]
  },
  {
   "cell_type": "code",
   "execution_count": 22,
   "metadata": {},
   "outputs": [
    {
     "data": {
      "text/html": [
       "<div>\n",
       "<style scoped>\n",
       "    .dataframe tbody tr th:only-of-type {\n",
       "        vertical-align: middle;\n",
       "    }\n",
       "\n",
       "    .dataframe tbody tr th {\n",
       "        vertical-align: top;\n",
       "    }\n",
       "\n",
       "    .dataframe thead th {\n",
       "        text-align: right;\n",
       "    }\n",
       "</style>\n",
       "<table border=\"1\" class=\"dataframe\">\n",
       "  <thead>\n",
       "    <tr style=\"text-align: right;\">\n",
       "      <th></th>\n",
       "      <th>Pclass</th>\n",
       "      <th>Sex</th>\n",
       "      <th>Age</th>\n",
       "      <th>Fare</th>\n",
       "      <th>Embarked</th>\n",
       "      <th>IsAlone</th>\n",
       "      <th>Title_Master</th>\n",
       "      <th>Title_Miss</th>\n",
       "      <th>Title_Mr</th>\n",
       "      <th>Title_Mrs</th>\n",
       "      <th>Title_Rare</th>\n",
       "    </tr>\n",
       "  </thead>\n",
       "  <tbody>\n",
       "    <tr>\n",
       "      <th>0</th>\n",
       "      <td>3</td>\n",
       "      <td>1</td>\n",
       "      <td>1</td>\n",
       "      <td>7.2500</td>\n",
       "      <td>0.0</td>\n",
       "      <td>1</td>\n",
       "      <td>0</td>\n",
       "      <td>0</td>\n",
       "      <td>1</td>\n",
       "      <td>0</td>\n",
       "      <td>0</td>\n",
       "    </tr>\n",
       "    <tr>\n",
       "      <th>1</th>\n",
       "      <td>1</td>\n",
       "      <td>0</td>\n",
       "      <td>2</td>\n",
       "      <td>71.2833</td>\n",
       "      <td>1.0</td>\n",
       "      <td>1</td>\n",
       "      <td>0</td>\n",
       "      <td>0</td>\n",
       "      <td>0</td>\n",
       "      <td>1</td>\n",
       "      <td>0</td>\n",
       "    </tr>\n",
       "    <tr>\n",
       "      <th>2</th>\n",
       "      <td>3</td>\n",
       "      <td>0</td>\n",
       "      <td>1</td>\n",
       "      <td>7.9250</td>\n",
       "      <td>0.0</td>\n",
       "      <td>0</td>\n",
       "      <td>0</td>\n",
       "      <td>1</td>\n",
       "      <td>0</td>\n",
       "      <td>0</td>\n",
       "      <td>0</td>\n",
       "    </tr>\n",
       "    <tr>\n",
       "      <th>3</th>\n",
       "      <td>1</td>\n",
       "      <td>0</td>\n",
       "      <td>2</td>\n",
       "      <td>53.1000</td>\n",
       "      <td>0.0</td>\n",
       "      <td>1</td>\n",
       "      <td>0</td>\n",
       "      <td>0</td>\n",
       "      <td>0</td>\n",
       "      <td>1</td>\n",
       "      <td>0</td>\n",
       "    </tr>\n",
       "    <tr>\n",
       "      <th>4</th>\n",
       "      <td>3</td>\n",
       "      <td>1</td>\n",
       "      <td>2</td>\n",
       "      <td>8.0500</td>\n",
       "      <td>0.0</td>\n",
       "      <td>0</td>\n",
       "      <td>0</td>\n",
       "      <td>0</td>\n",
       "      <td>1</td>\n",
       "      <td>0</td>\n",
       "      <td>0</td>\n",
       "    </tr>\n",
       "    <tr>\n",
       "      <th>...</th>\n",
       "      <td>...</td>\n",
       "      <td>...</td>\n",
       "      <td>...</td>\n",
       "      <td>...</td>\n",
       "      <td>...</td>\n",
       "      <td>...</td>\n",
       "      <td>...</td>\n",
       "      <td>...</td>\n",
       "      <td>...</td>\n",
       "      <td>...</td>\n",
       "      <td>...</td>\n",
       "    </tr>\n",
       "    <tr>\n",
       "      <th>886</th>\n",
       "      <td>2</td>\n",
       "      <td>1</td>\n",
       "      <td>1</td>\n",
       "      <td>13.0000</td>\n",
       "      <td>0.0</td>\n",
       "      <td>0</td>\n",
       "      <td>0</td>\n",
       "      <td>0</td>\n",
       "      <td>0</td>\n",
       "      <td>0</td>\n",
       "      <td>1</td>\n",
       "    </tr>\n",
       "    <tr>\n",
       "      <th>887</th>\n",
       "      <td>1</td>\n",
       "      <td>0</td>\n",
       "      <td>1</td>\n",
       "      <td>30.0000</td>\n",
       "      <td>0.0</td>\n",
       "      <td>0</td>\n",
       "      <td>0</td>\n",
       "      <td>1</td>\n",
       "      <td>0</td>\n",
       "      <td>0</td>\n",
       "      <td>0</td>\n",
       "    </tr>\n",
       "    <tr>\n",
       "      <th>888</th>\n",
       "      <td>3</td>\n",
       "      <td>0</td>\n",
       "      <td>1</td>\n",
       "      <td>23.4500</td>\n",
       "      <td>0.0</td>\n",
       "      <td>1</td>\n",
       "      <td>0</td>\n",
       "      <td>1</td>\n",
       "      <td>0</td>\n",
       "      <td>0</td>\n",
       "      <td>0</td>\n",
       "    </tr>\n",
       "    <tr>\n",
       "      <th>889</th>\n",
       "      <td>1</td>\n",
       "      <td>1</td>\n",
       "      <td>1</td>\n",
       "      <td>30.0000</td>\n",
       "      <td>1.0</td>\n",
       "      <td>0</td>\n",
       "      <td>0</td>\n",
       "      <td>0</td>\n",
       "      <td>1</td>\n",
       "      <td>0</td>\n",
       "      <td>0</td>\n",
       "    </tr>\n",
       "    <tr>\n",
       "      <th>890</th>\n",
       "      <td>3</td>\n",
       "      <td>1</td>\n",
       "      <td>1</td>\n",
       "      <td>7.7500</td>\n",
       "      <td>2.0</td>\n",
       "      <td>0</td>\n",
       "      <td>0</td>\n",
       "      <td>0</td>\n",
       "      <td>1</td>\n",
       "      <td>0</td>\n",
       "      <td>0</td>\n",
       "    </tr>\n",
       "  </tbody>\n",
       "</table>\n",
       "<p>891 rows × 11 columns</p>\n",
       "</div>"
      ],
      "text/plain": [
       "     Pclass  Sex  Age     Fare  Embarked  IsAlone  Title_Master  Title_Miss  \\\n",
       "0         3    1    1   7.2500       0.0        1             0           0   \n",
       "1         1    0    2  71.2833       1.0        1             0           0   \n",
       "2         3    0    1   7.9250       0.0        0             0           1   \n",
       "3         1    0    2  53.1000       0.0        1             0           0   \n",
       "4         3    1    2   8.0500       0.0        0             0           0   \n",
       "..      ...  ...  ...      ...       ...      ...           ...         ...   \n",
       "886       2    1    1  13.0000       0.0        0             0           0   \n",
       "887       1    0    1  30.0000       0.0        0             0           1   \n",
       "888       3    0    1  23.4500       0.0        1             0           1   \n",
       "889       1    1    1  30.0000       1.0        0             0           0   \n",
       "890       3    1    1   7.7500       2.0        0             0           0   \n",
       "\n",
       "     Title_Mr  Title_Mrs  Title_Rare  \n",
       "0           1          0           0  \n",
       "1           0          1           0  \n",
       "2           0          0           0  \n",
       "3           0          1           0  \n",
       "4           1          0           0  \n",
       "..        ...        ...         ...  \n",
       "886         0          0           1  \n",
       "887         0          0           0  \n",
       "888         0          0           0  \n",
       "889         1          0           0  \n",
       "890         1          0           0  \n",
       "\n",
       "[891 rows x 11 columns]"
      ]
     },
     "execution_count": 22,
     "metadata": {},
     "output_type": "execute_result"
    }
   ],
   "source": [
    "train_X_end=train_X.drop('Survived', axis=1)\n",
    "test_X_end=test_X\n",
    "train_y=train_X['Survived']\n",
    "train_X_end"
   ]
  },
  {
   "cell_type": "code",
   "execution_count": 23,
   "metadata": {},
   "outputs": [
    {
     "name": "stdout",
     "output_type": "stream",
     "text": [
      "0.830561797752809\n",
      "{'depth': 9, 'iterations': 100, 'learning_rate': 0.1}\n"
     ]
    }
   ],
   "source": [
    "#model creation\n",
    "from catboost import CatBoostClassifier\n",
    "param_grid = {\n",
    "    'iterations': [5, 10, 15, 20, 25, 50, 100],\n",
    "    'learning_rate': [0.01, 0.05, 0.1],\n",
    "    'depth': [3, 5, 7, 9, 11, 13],\n",
    "}\n",
    "gscv = GridSearchCV(CatBoostClassifier(random_state = 0,verbose = False),param_grid = param_grid, cv = 10,scoring = 'accuracy')\n",
    "gscv.fit(train_X_end,train_y)\n",
    "print(gscv.best_score_)\n",
    "print(gscv.best_params_)"
   ]
  },
  {
   "cell_type": "code",
   "execution_count": 24,
   "metadata": {},
   "outputs": [
    {
     "name": "stdout",
     "output_type": "stream",
     "text": [
      "0:\tlearn: 0.6592689\ttotal: 12ms\tremaining: 1.18s\n",
      "1:\tlearn: 0.6281825\ttotal: 22.7ms\tremaining: 1.11s\n",
      "2:\tlearn: 0.6022701\ttotal: 31.5ms\tremaining: 1.02s\n",
      "3:\tlearn: 0.5810540\ttotal: 38.8ms\tremaining: 931ms\n",
      "4:\tlearn: 0.5602023\ttotal: 42.1ms\tremaining: 801ms\n",
      "5:\tlearn: 0.5429866\ttotal: 49.5ms\tremaining: 776ms\n",
      "6:\tlearn: 0.5243996\ttotal: 54.1ms\tremaining: 719ms\n",
      "7:\tlearn: 0.5095573\ttotal: 57.4ms\tremaining: 660ms\n",
      "8:\tlearn: 0.4997372\ttotal: 58.5ms\tremaining: 591ms\n",
      "9:\tlearn: 0.4884753\ttotal: 61.1ms\tremaining: 550ms\n",
      "10:\tlearn: 0.4785507\ttotal: 62.1ms\tremaining: 503ms\n",
      "11:\tlearn: 0.4689454\ttotal: 68.6ms\tremaining: 503ms\n",
      "12:\tlearn: 0.4615226\ttotal: 75.5ms\tremaining: 505ms\n",
      "13:\tlearn: 0.4538151\ttotal: 82.1ms\tremaining: 505ms\n",
      "14:\tlearn: 0.4468553\ttotal: 86ms\tremaining: 487ms\n",
      "15:\tlearn: 0.4423291\ttotal: 87.9ms\tremaining: 461ms\n",
      "16:\tlearn: 0.4383949\ttotal: 90.3ms\tremaining: 441ms\n",
      "17:\tlearn: 0.4328491\ttotal: 94.1ms\tremaining: 428ms\n",
      "18:\tlearn: 0.4281771\ttotal: 101ms\tremaining: 429ms\n",
      "19:\tlearn: 0.4238757\ttotal: 108ms\tremaining: 430ms\n",
      "20:\tlearn: 0.4218893\ttotal: 108ms\tremaining: 408ms\n",
      "21:\tlearn: 0.4176786\ttotal: 110ms\tremaining: 391ms\n",
      "22:\tlearn: 0.4136877\ttotal: 117ms\tremaining: 393ms\n",
      "23:\tlearn: 0.4100891\ttotal: 124ms\tremaining: 393ms\n",
      "24:\tlearn: 0.4070052\ttotal: 127ms\tremaining: 380ms\n",
      "25:\tlearn: 0.4039413\ttotal: 133ms\tremaining: 378ms\n",
      "26:\tlearn: 0.4010572\ttotal: 135ms\tremaining: 365ms\n",
      "27:\tlearn: 0.3994329\ttotal: 137ms\tremaining: 351ms\n",
      "28:\tlearn: 0.3970573\ttotal: 142ms\tremaining: 349ms\n",
      "29:\tlearn: 0.3948080\ttotal: 149ms\tremaining: 347ms\n",
      "30:\tlearn: 0.3932128\ttotal: 151ms\tremaining: 335ms\n",
      "31:\tlearn: 0.3917856\ttotal: 152ms\tremaining: 323ms\n",
      "32:\tlearn: 0.3913305\ttotal: 153ms\tremaining: 311ms\n",
      "33:\tlearn: 0.3895316\ttotal: 159ms\tremaining: 309ms\n",
      "34:\tlearn: 0.3887749\ttotal: 161ms\tremaining: 298ms\n",
      "35:\tlearn: 0.3871217\ttotal: 167ms\tremaining: 297ms\n",
      "36:\tlearn: 0.3855542\ttotal: 173ms\tremaining: 295ms\n",
      "37:\tlearn: 0.3839346\ttotal: 179ms\tremaining: 291ms\n",
      "38:\tlearn: 0.3824359\ttotal: 186ms\tremaining: 291ms\n",
      "39:\tlearn: 0.3810267\ttotal: 193ms\tremaining: 290ms\n",
      "40:\tlearn: 0.3800307\ttotal: 196ms\tremaining: 282ms\n",
      "41:\tlearn: 0.3789256\ttotal: 200ms\tremaining: 276ms\n",
      "42:\tlearn: 0.3771207\ttotal: 206ms\tremaining: 273ms\n",
      "43:\tlearn: 0.3766133\ttotal: 207ms\tremaining: 263ms\n",
      "44:\tlearn: 0.3754053\ttotal: 212ms\tremaining: 259ms\n",
      "45:\tlearn: 0.3741261\ttotal: 218ms\tremaining: 256ms\n",
      "46:\tlearn: 0.3728524\ttotal: 224ms\tremaining: 253ms\n",
      "47:\tlearn: 0.3716938\ttotal: 230ms\tremaining: 249ms\n",
      "48:\tlearn: 0.3707746\ttotal: 233ms\tremaining: 243ms\n",
      "49:\tlearn: 0.3697875\ttotal: 239ms\tremaining: 239ms\n",
      "50:\tlearn: 0.3689430\ttotal: 244ms\tremaining: 235ms\n",
      "51:\tlearn: 0.3681622\ttotal: 248ms\tremaining: 229ms\n",
      "52:\tlearn: 0.3676130\ttotal: 250ms\tremaining: 222ms\n",
      "53:\tlearn: 0.3666849\ttotal: 255ms\tremaining: 217ms\n",
      "54:\tlearn: 0.3657162\ttotal: 261ms\tremaining: 214ms\n",
      "55:\tlearn: 0.3648112\ttotal: 267ms\tremaining: 210ms\n",
      "56:\tlearn: 0.3637526\ttotal: 272ms\tremaining: 205ms\n",
      "57:\tlearn: 0.3625386\ttotal: 279ms\tremaining: 202ms\n",
      "58:\tlearn: 0.3612628\ttotal: 284ms\tremaining: 198ms\n",
      "59:\tlearn: 0.3602966\ttotal: 290ms\tremaining: 193ms\n",
      "60:\tlearn: 0.3593692\ttotal: 295ms\tremaining: 189ms\n",
      "61:\tlearn: 0.3585007\ttotal: 301ms\tremaining: 184ms\n",
      "62:\tlearn: 0.3574444\ttotal: 307ms\tremaining: 180ms\n",
      "63:\tlearn: 0.3565740\ttotal: 312ms\tremaining: 176ms\n",
      "64:\tlearn: 0.3558169\ttotal: 317ms\tremaining: 171ms\n",
      "65:\tlearn: 0.3546821\ttotal: 323ms\tremaining: 166ms\n",
      "66:\tlearn: 0.3543864\ttotal: 325ms\tremaining: 160ms\n",
      "67:\tlearn: 0.3536369\ttotal: 327ms\tremaining: 154ms\n",
      "68:\tlearn: 0.3526482\ttotal: 332ms\tremaining: 149ms\n",
      "69:\tlearn: 0.3520121\ttotal: 337ms\tremaining: 145ms\n",
      "70:\tlearn: 0.3512532\ttotal: 343ms\tremaining: 140ms\n",
      "71:\tlearn: 0.3505310\ttotal: 348ms\tremaining: 135ms\n",
      "72:\tlearn: 0.3500273\ttotal: 355ms\tremaining: 131ms\n",
      "73:\tlearn: 0.3492421\ttotal: 364ms\tremaining: 128ms\n",
      "74:\tlearn: 0.3485874\ttotal: 378ms\tremaining: 126ms\n",
      "75:\tlearn: 0.3477202\ttotal: 384ms\tremaining: 121ms\n",
      "76:\tlearn: 0.3474279\ttotal: 387ms\tremaining: 115ms\n",
      "77:\tlearn: 0.3466634\ttotal: 392ms\tremaining: 111ms\n",
      "78:\tlearn: 0.3461140\ttotal: 398ms\tremaining: 106ms\n",
      "79:\tlearn: 0.3455134\ttotal: 403ms\tremaining: 101ms\n",
      "80:\tlearn: 0.3445524\ttotal: 410ms\tremaining: 96.1ms\n",
      "81:\tlearn: 0.3437022\ttotal: 416ms\tremaining: 91.4ms\n",
      "82:\tlearn: 0.3429485\ttotal: 422ms\tremaining: 86.4ms\n",
      "83:\tlearn: 0.3423907\ttotal: 428ms\tremaining: 81.4ms\n",
      "84:\tlearn: 0.3418028\ttotal: 433ms\tremaining: 76.5ms\n",
      "85:\tlearn: 0.3414985\ttotal: 440ms\tremaining: 71.6ms\n",
      "86:\tlearn: 0.3410360\ttotal: 445ms\tremaining: 66.5ms\n",
      "87:\tlearn: 0.3406695\ttotal: 451ms\tremaining: 61.5ms\n",
      "88:\tlearn: 0.3400534\ttotal: 456ms\tremaining: 56.4ms\n",
      "89:\tlearn: 0.3390961\ttotal: 462ms\tremaining: 51.3ms\n",
      "90:\tlearn: 0.3387332\ttotal: 467ms\tremaining: 46.2ms\n",
      "91:\tlearn: 0.3381415\ttotal: 473ms\tremaining: 41.1ms\n",
      "92:\tlearn: 0.3377025\ttotal: 479ms\tremaining: 36ms\n",
      "93:\tlearn: 0.3372184\ttotal: 484ms\tremaining: 30.9ms\n",
      "94:\tlearn: 0.3368940\ttotal: 490ms\tremaining: 25.8ms\n",
      "95:\tlearn: 0.3366277\ttotal: 495ms\tremaining: 20.6ms\n",
      "96:\tlearn: 0.3355112\ttotal: 501ms\tremaining: 15.5ms\n",
      "97:\tlearn: 0.3349496\ttotal: 507ms\tremaining: 10.3ms\n",
      "98:\tlearn: 0.3343366\ttotal: 513ms\tremaining: 5.18ms\n",
      "99:\tlearn: 0.3335479\ttotal: 519ms\tremaining: 0us\n"
     ]
    },
    {
     "data": {
      "text/plain": [
       "{'learn': {'Logloss': 0.33354787766453264}}"
      ]
     },
     "execution_count": 24,
     "metadata": {},
     "output_type": "execute_result"
    }
   ],
   "source": [
    "clf = CatBoostClassifier(learning_rate = 0.1,depth = 9,iterations = 100,random_state = 42)\n",
    "\n",
    "clf.fit(train_X_end,train_y)\n",
    "clf.best_score_"
   ]
  },
  {
   "cell_type": "code",
   "execution_count": 25,
   "metadata": {},
   "outputs": [],
   "source": [
    "y = clf.predict(test_X)\n",
    "submit = pd.DataFrame(y,columns = ['Survived'],index = [i + 892 for i in range(0,418)])\n",
    "submit.index.name = 'PassengerId'\n",
    "submit.to_csv('catboost.csv')\n",
    "#Точность - 77.2%"
   ]
  }
 ],
 "metadata": {
  "kernelspec": {
   "display_name": "Python 3",
   "language": "python",
   "name": "python3"
  },
  "language_info": {
   "codemirror_mode": {
    "name": "ipython",
    "version": 3
   },
   "file_extension": ".py",
   "mimetype": "text/x-python",
   "name": "python",
   "nbconvert_exporter": "python",
   "pygments_lexer": "ipython3",
   "version": "3.8.3"
  }
 },
 "nbformat": 4,
 "nbformat_minor": 4
}
