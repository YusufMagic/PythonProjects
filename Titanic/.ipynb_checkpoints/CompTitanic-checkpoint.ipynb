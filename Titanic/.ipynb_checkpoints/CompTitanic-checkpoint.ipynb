{
 "cells": [
  {
   "cell_type": "code",
   "execution_count": 2,
   "metadata": {
    "_cell_guid": "b1076dfc-b9ad-4769-8c92-a6c4dae69d19",
    "_uuid": "8f2839f25d086af736a60e9eeb907d3b93b6e0e5"
   },
   "outputs": [],
   "source": [
    "# This Python 3 environment comes with many helpful analytics libraries installed\n",
    "# It is defined by the kaggle/python Docker image: https://github.com/kaggle/docker-python\n",
    "# For example, here's several helpful packages to load\n",
    "import sys\n",
    "import numpy as np # linear algebra\n",
    "import pandas as pd # data processing, CSV file I/O (e.g. pd.read_csv)\n",
    "import seaborn as sns\n",
    "import matplotlib.pyplot as plt\n",
    "from sklearn.model_selection import GridSearchCV\n",
    "\n"
   ]
  },
  {
   "cell_type": "code",
   "execution_count": null,
   "metadata": {
    "_cell_guid": "79c7e3d0-c299-4dcb-8224-4455121ee9b0",
    "_uuid": "d629ff2d2480ee46fbb7e2d37f6b5fab8052498a"
   },
   "outputs": [],
   "source": [
    "train_X = pd.read_csv('data/train.csv')\n",
    "test_X = pd.read_csv('data/test.csv')\n",
    "concat=[train_X, test_X]\n",
    "concat"
   ]
  },
  {
   "cell_type": "code",
   "execution_count": null,
   "metadata": {},
   "outputs": [],
   "source": [
    "train_X.drop(['PassengerId', 'Cabin'],axis=1, inplace=True)\n",
    "test_X.drop(['PassengerId', 'Cabin'], axis=1, inplace=True)\n",
    "train_X.isnull().sum()\n"
   ]
  },
  {
   "cell_type": "code",
   "execution_count": null,
   "metadata": {},
   "outputs": [],
   "source": [
    "#VISUALIZATION\n",
    "sns.countplot(train_X['Survived'])"
   ]
  },
  {
   "cell_type": "code",
   "execution_count": null,
   "metadata": {},
   "outputs": [],
   "source": [
    "plt.figure(figsize=(10,5))\n",
    "sns.heatmap(train_X.corr(), annot=True)"
   ]
  },
  {
   "cell_type": "code",
   "execution_count": null,
   "metadata": {},
   "outputs": [],
   "source": [
    "sns.countplot(train_X['Survived'], hue = 'Sex', data=train_X)"
   ]
  },
  {
   "cell_type": "code",
   "execution_count": null,
   "metadata": {},
   "outputs": [],
   "source": [
    "sns.countplot(train_X['Survived'], hue='Embarked', data=train_X)"
   ]
  },
  {
   "cell_type": "code",
   "execution_count": null,
   "metadata": {},
   "outputs": [],
   "source": [
    "#Analiz\n",
    "for i in concat:\n",
    "    i['Title'] = i.Name.str.extract(' ([A-Za-z]+)\\.', expand=False)\n",
    "    train_X=concat[0]; test_X=concat[1]\n",
    "print(pd.crosstab(train_X['Title'], train_X['Sex']))"
   ]
  },
  {
   "cell_type": "code",
   "execution_count": null,
   "metadata": {},
   "outputs": [],
   "source": [
    "train_X[['Title', 'Survived']].groupby('Title').mean()"
   ]
  },
  {
   "cell_type": "code",
   "execution_count": null,
   "metadata": {},
   "outputs": [],
   "source": [
    "for i in concat:\n",
    "    i['Title'] = i['Title'].replace(['Lady', 'Countess','Capt', 'Col','Don', 'Dr', 'Major', 'Rev', 'Sir', 'Jonkheer', 'Dona'], 'Rare')\n",
    "    i['Title'] = i['Title'].replace('Ms','Miss')\n",
    "    i['Title']=i['Title'].replace('Mme', 'Mrs')\n",
    "    i['Title'] = i['Title'].replace('Mlle', 'Miss')\n",
    "test_X"
   ]
  },
  {
   "cell_type": "code",
   "execution_count": null,
   "metadata": {},
   "outputs": [],
   "source": [
    "train_X['Age'][np.isnan(train_X['Age'])] = train_X['Age'].mean() \n",
    "test_X['Age'][np.isnan(test_X['Age'])] = test_X['Age'].mean()\n",
    "\n",
    "train_X['CategoricalAge'] = pd.cut(train_X['Age'], 5)\n",
    "\n",
    "print (train_X[['CategoricalAge', 'Survived']].groupby(['CategoricalAge'], as_index=False).mean())"
   ]
  },
  {
   "cell_type": "code",
   "execution_count": null,
   "metadata": {},
   "outputs": [],
   "source": [
    "for dataset in concat:\n",
    "    dataset['FamilySize'] = dataset['Parch'] + dataset['SibSp'] + 1\n",
    "    dataset['IsAlone'] = dataset['FamilySize'].apply(lambda x: 1 if x>1 else 0)\n",
    "print(train_X[['IsAlone', 'Survived']].groupby('IsAlone').mean()) "
   ]
  },
  {
   "cell_type": "code",
   "execution_count": null,
   "metadata": {},
   "outputs": [],
   "source": [
    "print(train_X[['Embarked', 'Survived']].groupby('Embarked').mean())"
   ]
  },
  {
   "cell_type": "code",
   "execution_count": null,
   "metadata": {},
   "outputs": [],
   "source": [
    "train_X=pd.get_dummies(train_X, columns=['Title'], prefix=['Title'])\n",
    "test_X=pd.get_dummies(test_X, columns=['Title'], prefix=['Title'])"
   ]
  },
  {
   "cell_type": "code",
   "execution_count": null,
   "metadata": {},
   "outputs": [],
   "source": [
    "train_X['Sex']=train_X['Sex'].apply(lambda x: 1  if x=='male' else 0)\n",
    "test_X['Sex']=test_X['Sex'].apply(lambda x: 1  if x=='male' else 0)\n",
    "\n",
    "train_X['Embarked'] = train_X['Embarked'].map({'S':0, 'C':1, 'Q':2})\n",
    "test_X['Embarked'] = test_X['Embarked'].map({'S':0, 'C':1, 'Q':2})\n",
    "\n",
    "train_X = train_X.drop(['Name', 'Ticket'], axis=1)\n",
    "test_X = test_X.drop(['Name','Ticket'],axis=1)\n",
    "\n"
   ]
  },
  {
   "cell_type": "code",
   "execution_count": null,
   "metadata": {},
   "outputs": [],
   "source": [
    "for dataset in concat:    \n",
    "    dataset['Embarked'] = dataset['Embarked'].map( {'S': 0, 'C': 1, 'Q': 2} )\n",
    "    dataset.loc[ dataset['Fare'] <= 7.91, 'Fare'] = 0\n",
    "    dataset.loc[(dataset['Fare'] > 7.91) & (dataset['Fare'] <= 14.454), 'Fare'] = 1\n",
    "    dataset.loc[(dataset['Fare'] > 14.454) & (dataset['Fare'] <= 31), 'Fare']   = 2\n",
    "    dataset.loc[ dataset['Fare'] > 31, 'Fare'] \n",
    "train_X.drop(['SibSp','Parch','FamilySize'], axis=1,inplace=True)\n",
    "test_X.drop(['SibSp','Parch','FamilySize'], axis=1,inplace=True)\n",
    "\n",
    "train_X['Age'] = train_X['Age'].astype(int)\n",
    "test_X['Age'] = test_X['Age'].astype(int)\n",
    "\n",
    "train_X.drop('CategoricalAge',axis = 1,inplace = True)"
   ]
  },
  {
   "cell_type": "code",
   "execution_count": null,
   "metadata": {},
   "outputs": [],
   "source": [
    "train_X.loc[train_X['Age'] <= 16, 'Age'] = 0\n",
    "train_X.loc[(train_X['Age'] > 16) & (train_X['Age'] <= 32),'Age'] = 1\n",
    "train_X.loc[(train_X['Age'] > 32) & (train_X['Age'] <= 48),'Age'] = 2\n",
    "train_X.loc[(train_X['Age'] > 48) & (train_X['Age'] <= 64),'Age'] = 3\n",
    "train_X.loc[(train_X['Age'] > 64) & (train_X['Age'] <= 80),'Age'] = 4"
   ]
  },
  {
   "cell_type": "code",
   "execution_count": null,
   "metadata": {},
   "outputs": [],
   "source": [
    "test_X.loc[test_X['Age']<=16, 'Age'] = 0\n",
    "test_X.loc[(test_X['Age'] > 16) & (test_X['Age'] <= 32),'Age'] = 1\n",
    "test_X.loc[(test_X['Age'] > 32) & (test_X['Age'] <= 48),'Age'] = 2\n",
    "test_X.loc[(test_X['Age'] > 48) & (test_X['Age'] <= 64),'Age'] = 3\n",
    "test_X.loc[(test_X['Age'] > 64) & (test_X['Age'] <= 80),'Age'] = 4"
   ]
  },
  {
   "cell_type": "code",
   "execution_count": null,
   "metadata": {},
   "outputs": [],
   "source": [
    "plt.figure(figsize=(15,10))\n",
    "sns.heatmap(train_X.corr(),annot=True)"
   ]
  },
  {
   "cell_type": "code",
   "execution_count": null,
   "metadata": {},
   "outputs": [],
   "source": [
    "train_X_end=train_X.drop('Survived', axis=1)\n",
    "test_X_end=test_X\n",
    "train_y=train_X['Survived']\n",
    "train_X_end"
   ]
  },
  {
   "cell_type": "code",
   "execution_count": null,
   "metadata": {},
   "outputs": [],
   "source": [
    "#model creation\n",
    "from catboost import CatBoostClassifier\n",
    "param_grid = {\n",
    "    'iterations': [5, 10, 15, 20, 25, 50, 100],\n",
    "    'learning_rate': [0.01, 0.05, 0.1],\n",
    "    'depth': [3, 5, 7, 9, 11, 13],\n",
    "}\n",
    "gscv = GridSearchCV(CatBoostClassifier(random_state = 0,verbose = False),param_grid = param_grid, cv = 10,scoring = 'accuracy')\n",
    "gscv.fit(train_X_end,train_y)\n",
    "print(gscv.best_score_)\n",
    "print(gscv.best_params_)"
   ]
  },
  {
   "cell_type": "code",
   "execution_count": null,
   "metadata": {},
   "outputs": [],
   "source": [
    "clf = CatBoostClassifier(learning_rate = 0.1,depth = 9,iterations = 100,random_state = 42)\n",
    "\n",
    "clf.fit(train_X_end,train_y)\n",
    "clf.best_score_"
   ]
  },
  {
   "cell_type": "code",
   "execution_count": null,
   "metadata": {},
   "outputs": [],
   "source": [
    "y = clf.predict(test_X)\n",
    "submit = pd.DataFrame(y,columns = ['Survived'],index = [i + 892 for i in range(0,418)])\n",
    "submit.index.name = 'PassengerId'\n",
    "submit.to_csv('catboost.csv')\n",
    "#Точность - 77.2%"
   ]
  }
 ],
 "metadata": {
  "kernelspec": {
   "display_name": "Python 3",
   "language": "python",
   "name": "python3"
  },
  "language_info": {
   "codemirror_mode": {
    "name": "ipython",
    "version": 3
   },
   "file_extension": ".py",
   "mimetype": "text/x-python",
   "name": "python",
   "nbconvert_exporter": "python",
   "pygments_lexer": "ipython3",
   "version": "3.8.3"
  }
 },
 "nbformat": 4,
 "nbformat_minor": 4
}
